{
 "cells": [
  {
   "cell_type": "code",
   "execution_count": 6,
   "metadata": {},
   "outputs": [
    {
     "data": {
      "image/png": "[encoded data removed]",
      "text/plain": [
       "<matplotlib.figure.Figure at 0x1114d0400>"
      ]
     },
     "metadata": {},
     "output_type": "display_data"
    }
   ],
   "source": [
    "from scipy import constants as sp\n",
    "import os\n",
    "import numpy as np\n",
    "from matplotlib import pyplot as plt\n",
    "from qsd.data_processing import readcomsol,postproc,setparams\n",
    "\n",
    "# Read data from downloads\n",
    "file_dbx = os.getcwd() + '/downloads/exports/Bx_fullData.csv'\n",
    "file_dby = os.getcwd() + '/downloads/exports/By_fullData.csv'\n",
    "\n",
    "rdx = readcomsol.ReadComsol(file_dbx)\n",
    "rdy = readcomsol.ReadComsol(file_dby)\n",
    "\n",
    "# Read csv file, and get x,y annd dbx/dby data for each\n",
    "# blocked point in space\n",
    "bx_x,bx_y,bx_z = rdx.read_full_data()\n",
    "by_x,by_y,by_z = rdy.read_full_data()\n",
    "\n",
    "dbx = np.asarray(bx_z).astype(np.float)\n",
    "dby = np.asarray(by_z).astype(np.float)\n",
    "\n",
    "# Define geometry of the superconductor\n",
    "setp = setparams.SetParams()\n",
    "params = setp.set_params(\"cpw_parameters.txt\")\n",
    "\n",
    "w = params[\"w\"]\n",
    "t = params[\"t\"]\n",
    "l = params[\"l\"]\n",
    "pen = params[\"pen\"]\n",
    "omega = params[\"omega\"]\n",
    "Z = params[\"Z\"]\n",
    "\n",
    "# Postprocess data\n",
    "post = postproc.PostProc(w,t,l,pen,omega,Z)\n",
    "\n",
    "# Single spin coupling for each point on mesh grid\n",
    "g = post.coupling(dbx,dby,theta=0)\n",
    "\n",
    "# Calculate Purcell enhancement at each grid point\n",
    "Q = 10000 # Q factor - for now typed in, but will be found from CST calcs ultimately\n",
    "purcell = post.purcell_rate(g,Q)\n",
    "pdens, pedge = post.purcell_density(bx_x,bx_y,purcell) # density\n",
    "\n",
    "# Weight by contribution to signal\n",
    "g_weight = np.zeros(len(pedge))\n",
    "for i in range (0,len(pedge)-1):\n",
    "    g_weight[i] = sum(g[np.where(np.logical_and(purcell>=pedge[i], purcell<=pedge[i+1]))])\n",
    "\n",
    "rho_weighted = pdens * g_weight**2\n",
    "\n",
    "plt.plot(pedge,rho_weighted)\n",
    "plt.show()"
   ]
  },
  {
   "cell_type": "code",
   "execution_count": null,
   "metadata": {
    "collapsed": true
   },
   "outputs": [],
   "source": []
  }
 ],
 "metadata": {
  "kernelspec": {
   "display_name": "Python 3",
   "language": "python",
   "name": "python3"
  },
  "language_info": {
   "codemirror_mode": {
    "name": "ipython",
    "version": 3
   },
   "file_extension": ".py",
   "mimetype": "text/x-python",
   "name": "python",
   "nbconvert_exporter": "python",
   "pygments_lexer": "ipython3",
   "version": "3.6.3"
  }
 },
 "nbformat": 4,
 "nbformat_minor": 2
}
