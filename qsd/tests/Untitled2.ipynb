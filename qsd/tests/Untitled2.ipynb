{
 "cells": [
  {
   "cell_type": "code",
   "execution_count": 28,
   "metadata": {},
   "outputs": [
    {
     "data": {
      "image/png": "[encoded data removed]",
      "text/plain": [
       "<matplotlib.figure.Figure at 0x111699d68>"
      ]
     },
     "metadata": {},
     "output_type": "display_data"
    }
   ],
   "source": [
    "from scipy import constants as sp\n",
    "import os\n",
    "import numpy as np\n",
    "from matplotlib import pyplot as plt\n",
    "from qsd.data_processing import readcomsol,postproc,setparams\n",
    "\n",
    "# Read data from downloads\n",
    "file_dbx = os.getcwd() + '/downloads/exports/Bx_fullData.csv'\n",
    "file_dby = os.getcwd() + '/downloads/exports/By_fullData.csv'\n",
    "\n",
    "rdx = readcomsol.ReadComsol(file_dbx)\n",
    "rdy = readcomsol.ReadComsol(file_dby)\n",
    "\n",
    "# Read csv file, and get x,y annd dbx/dby data for each\n",
    "# blocked point in space\n",
    "bx_x,bx_y,bx_z = rdx.read_full_data()\n",
    "by_x,by_y,by_z = rdy.read_full_data()\n",
    "\n",
    "dbx = np.asarray(bx_z).astype(np.float)\n",
    "dby = np.asarray(by_z).astype(np.float)\n",
    "\n",
    "# Define geometry of the superconductor\n",
    "setp = setparams.SetParams()\n",
    "params = setp.set_params(\"cpw_parameters.txt\")\n",
    "\n",
    "w = params[\"w\"]\n",
    "t = params[\"t\"]\n",
    "l = params[\"l\"]\n",
    "pen = params[\"pen\"]\n",
    "omega = params[\"omega\"]\n",
    "Z = params[\"Z\"]\n",
    "\n",
    "# Postprocess data\n",
    "post = postproc.PostProc(w,t,l,pen,omega,Z)\n",
    "\n",
    "# Single spin coupling for each point on mesh grid\n",
    "g = post.coupling(dbx,dby,theta=0)\n",
    "\n",
    "hist, edges = post.spin_density(bx_x,bx_y,g) # density\n",
    "\n",
    "fig, ax1 = plt.subplots(figsize=(6,4))\n",
    "ax1.plot(edges,hist,'-')\n",
    "ax1.bar(edges,height=hist,alpha=0.5)\n",
    "plt.xlabel('$\\\\frac{g}{2 \\pi} (Hz)$',fontsize=28)\n",
    "plt.ylabel('$\\\\rho(g)$',fontsize=28)\n",
    "ax1.tick_params(direction='out', length=6, width=2, colors='k',labelsize=18)\n",
    "plt.show()"
   ]
  },
  {
   "cell_type": "code",
   "execution_count": 2,
   "metadata": {
    "collapsed": true
   },
   "outputs": [],
   "source": [
    "# Define spin map\n",
    "x = np.asarray(bx_x)\n",
    "y = np.asarray(bx_y)\n",
    "\n"
   ]
  },
  {
   "cell_type": "code",
   "execution_count": 3,
   "metadata": {},
   "outputs": [
    {
     "data": {
      "text/plain": [
       "array(['-12.499999999999998', '-12.4', '-12.3', ..., '12.3',\n",
       "       '12.400000000000002', '12.499999999999998'],\n",
       "      dtype='<U20')"
      ]
     },
     "execution_count": 3,
     "metadata": {},
     "output_type": "execute_result"
    }
   ],
   "source": [
    "y"
   ]
  },
  {
   "cell_type": "code",
   "execution_count": 4,
   "metadata": {},
   "outputs": [
    {
     "data": {
      "text/plain": [
       "array(['-20', '-20', '-20', ..., '20', '20', '20'],\n",
       "      dtype='<U20')"
      ]
     },
     "execution_count": 4,
     "metadata": {},
     "output_type": "execute_result"
    }
   ],
   "source": [
    "x"
   ]
  }
 ],
 "metadata": {
  "kernelspec": {
   "display_name": "Python 3",
   "language": "python",
   "name": "python3"
  },
  "language_info": {
   "codemirror_mode": {
    "name": "ipython",
    "version": 3
   },
   "file_extension": ".py",
   "mimetype": "text/x-python",
   "name": "python",
   "nbconvert_exporter": "python",
   "pygments_lexer": "ipython3",
   "version": "3.6.3"
  }
 },
 "nbformat": 4,
 "nbformat_minor": 2
}
