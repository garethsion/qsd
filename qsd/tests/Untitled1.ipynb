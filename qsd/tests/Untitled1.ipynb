{
 "cells": [
  {
   "cell_type": "code",
   "execution_count": 8,
   "metadata": {},
   "outputs": [
    {
     "data": {
      "image/png": "[encoded data removed]",
      "text/plain": [
       "<matplotlib.figure.Figure at 0x10d31f438>"
      ]
     },
     "metadata": {},
     "output_type": "display_data"
    }
   ],
   "source": [
    "from scipy import constants as sp\n",
    "import os\n",
    "import numpy as np\n",
    "from matplotlib import pyplot as plt\n",
    "from qsd.data_processing import readcomsol,postproc,setparams\n",
    "\n",
    "# Read data from downloads\n",
    "file_dbx = os.getcwd() + '/downloads/exports/Bx_fullData.csv'\n",
    "file_dby = os.getcwd() + '/downloads/exports/By_fullData.csv'\n",
    "\n",
    "rdx = readcomsol.ReadComsol(file_dbx)\n",
    "rdy = readcomsol.ReadComsol(file_dby)\n",
    "\n",
    "# Read csv file, and get x,y annd dbx/dby data for each\n",
    "# blocked point in space\n",
    "bx_x,bx_y,bx_z = rdx.read_full_data()\n",
    "by_x,by_y,by_z = rdy.read_full_data()\n",
    "\n",
    "dbx = np.asarray(bx_z).astype(np.float)\n",
    "dby = np.asarray(by_z).astype(np.float)\n",
    "\n",
    "# # Define geometry of the superconductor\n",
    "setp = setparams.SetParams()\n",
    "params = setp.set_params(\"cpw_parameters.txt\")\n",
    "\n",
    "w = params[\"w\"]\n",
    "t = params[\"t\"]\n",
    "l = params[\"l\"]\n",
    "pen = params[\"pen\"]\n",
    "omega = params[\"omega\"]\n",
    "Z = params[\"Z\"]\n",
    "\n",
    "# Postprocess data\n",
    "post = postproc.PostProc(w,t,l,pen,omega,Z)\n",
    "\n",
    "# Single spin coupling for each point on mesh grid\n",
    "g = post.coupling(dbx,dby,theta=0)\n",
    "\n",
    "# Calculate total B1 field\n",
    "theta = 0\n",
    "B1 = post.B1(dbx, dby, theta)\n",
    "\n",
    "# Calculate Larmor frequency\n",
    "gamma = 4.32e07 # Bismuth gyromagnetic ratio (rad/T*s)\n",
    "omega_larmor = post.larmor_omega(B1,gamma)\n",
    "tau = 1\n",
    "theta_larmor = post.larmor_theta(omega_larmor, tau)\n",
    "\n",
    "lardens, laredge = post.larmor_density(bx_x,by_y,theta_larmor)\n",
    "\n",
    "# Weight theta with contribution to spin signal\n",
    "g_weight = np.zeros(len(laredge))\n",
    "for i in range (0,len(laredge)-1):\n",
    "    g_weight[i] = sum(g[np.where(np.logical_and(theta_larmor>=laredge[i], theta_larmor<=laredge[i+1]))])\n",
    "\n",
    "rho_weighted = lardens * g_weight**2\n",
    "\n",
    "plt.plot(laredge,rho_weighted)\n",
    "plt.show()"
   ]
  },
  {
   "cell_type": "code",
   "execution_count": 5,
   "metadata": {},
   "outputs": [
    {
     "data": {
      "text/plain": [
       "50.0"
      ]
     },
     "execution_count": 5,
     "metadata": {},
     "output_type": "execute_result"
    }
   ],
   "source": [
    "Z"
   ]
  },
  {
   "cell_type": "code",
   "execution_count": null,
   "metadata": {
    "collapsed": true
   },
   "outputs": [],
   "source": []
  }
 ],
 "metadata": {
  "kernelspec": {
   "display_name": "Python 3",
   "language": "python",
   "name": "python3"
  },
  "language_info": {
   "codemirror_mode": {
    "name": "ipython",
    "version": 3
   },
   "file_extension": ".py",
   "mimetype": "text/x-python",
   "name": "python",
   "nbconvert_exporter": "python",
   "pygments_lexer": "ipython3",
   "version": "3.6.3"
  }
 },
 "nbformat": 4,
 "nbformat_minor": 2
}
