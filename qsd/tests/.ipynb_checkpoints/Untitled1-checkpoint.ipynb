{
 "cells": [
  {
   "cell_type": "code",
   "execution_count": 1,
   "metadata": {},
   "outputs": [
    {
     "ename": "NameError",
     "evalue": "name 'g' is not defined",
     "output_type": "error",
     "traceback": [
      "\u001b[0;31m---------------------------------------------------------------------------\u001b[0m",
      "\u001b[0;31mNameError\u001b[0m                                 Traceback (most recent call last)",
      "\u001b[0;32m<ipython-input-1-bcce08608cb9>\u001b[0m in \u001b[0;36m<module>\u001b[0;34m()\u001b[0m\n\u001b[1;32m     56\u001b[0m \u001b[0mg_weight\u001b[0m \u001b[0;34m=\u001b[0m \u001b[0mnp\u001b[0m\u001b[0;34m.\u001b[0m\u001b[0mzeros\u001b[0m\u001b[0;34m(\u001b[0m\u001b[0mlen\u001b[0m\u001b[0;34m(\u001b[0m\u001b[0mlaredge\u001b[0m\u001b[0;34m)\u001b[0m\u001b[0;34m)\u001b[0m\u001b[0;34m\u001b[0m\u001b[0m\n\u001b[1;32m     57\u001b[0m \u001b[0;32mfor\u001b[0m \u001b[0mi\u001b[0m \u001b[0;32min\u001b[0m \u001b[0mrange\u001b[0m \u001b[0;34m(\u001b[0m\u001b[0;36m0\u001b[0m\u001b[0;34m,\u001b[0m\u001b[0mlen\u001b[0m\u001b[0;34m(\u001b[0m\u001b[0mlaredge\u001b[0m\u001b[0;34m)\u001b[0m\u001b[0;34m-\u001b[0m\u001b[0;36m1\u001b[0m\u001b[0;34m)\u001b[0m\u001b[0;34m:\u001b[0m\u001b[0;34m\u001b[0m\u001b[0m\n\u001b[0;32m---> 58\u001b[0;31m     \u001b[0mg_weight\u001b[0m\u001b[0;34m[\u001b[0m\u001b[0mi\u001b[0m\u001b[0;34m]\u001b[0m \u001b[0;34m=\u001b[0m \u001b[0msum\u001b[0m\u001b[0;34m(\u001b[0m\u001b[0mg\u001b[0m\u001b[0;34m[\u001b[0m\u001b[0mnp\u001b[0m\u001b[0;34m.\u001b[0m\u001b[0mwhere\u001b[0m\u001b[0;34m(\u001b[0m\u001b[0mnp\u001b[0m\u001b[0;34m.\u001b[0m\u001b[0mlogical_and\u001b[0m\u001b[0;34m(\u001b[0m\u001b[0mtheta_larmor\u001b[0m\u001b[0;34m>=\u001b[0m\u001b[0mlaredge\u001b[0m\u001b[0;34m[\u001b[0m\u001b[0mi\u001b[0m\u001b[0;34m]\u001b[0m\u001b[0;34m,\u001b[0m \u001b[0mtheta_larmor\u001b[0m\u001b[0;34m<=\u001b[0m\u001b[0mlaredge\u001b[0m\u001b[0;34m[\u001b[0m\u001b[0mi\u001b[0m\u001b[0;34m+\u001b[0m\u001b[0;36m1\u001b[0m\u001b[0;34m]\u001b[0m\u001b[0;34m)\u001b[0m\u001b[0;34m)\u001b[0m\u001b[0;34m]\u001b[0m\u001b[0;34m)\u001b[0m\u001b[0;34m\u001b[0m\u001b[0m\n\u001b[0m\u001b[1;32m     59\u001b[0m \u001b[0;34m\u001b[0m\u001b[0m\n\u001b[1;32m     60\u001b[0m \u001b[0mrho_weighted\u001b[0m \u001b[0;34m=\u001b[0m \u001b[0mlardens\u001b[0m \u001b[0;34m*\u001b[0m \u001b[0mg_weight\u001b[0m\u001b[0;34m**\u001b[0m\u001b[0;36m2\u001b[0m\u001b[0;34m\u001b[0m\u001b[0m\n",
      "\u001b[0;31mNameError\u001b[0m: name 'g' is not defined"
     ]
    }
   ],
   "source": [
    "from scipy import constants as sp\n",
    "import os\n",
    "import numpy as np\n",
    "from matplotlib import pyplot as plt\n",
    "from qsd.data_processing import readcomsol,postproc\n",
    "\n",
    "# Read data from downloads\n",
    "file_dbx = os.getcwd() + '/downloads/exports/Bx_fullData.csv'\n",
    "file_dby = os.getcwd() + '/downloads/exports/By_fullData.csv'\n",
    "\n",
    "rdx = readcomsol.ReadComsol(file_dbx)\n",
    "rdy = readcomsol.ReadComsol(file_dby)\n",
    "\n",
    "# Read csv file, and get x,y annd dbx/dby data for each\n",
    "# blocked point in space\n",
    "bx_x,bx_y,bx_z = rdx.read_full_data()\n",
    "by_x,by_y,by_z = rdy.read_full_data()\n",
    "\n",
    "dbx = np.asarray(bx_z).astype(np.float)\n",
    "dby = np.asarray(by_z).astype(np.float)\n",
    "\n",
    "# Define geometry of the superconductor\n",
    "paramfile=open(\"cpw_parameters.txt\",\"r\")\n",
    "filestring = paramfile.read()\n",
    "filelist = filestring.split(\"\\n\")\n",
    "\n",
    "pd = {}\n",
    "for fl in filelist:\n",
    "    l = fl.split()\n",
    "    pd[l[0]] = l[2]\n",
    "paramfile.close()\n",
    "\n",
    "w = float(pd[\"w\"])\n",
    "t = float(pd[\"t\"])\n",
    "l = float(pd[\"l\"])\n",
    "pen = float(pd[\"pen\"])\n",
    "omega = float(pd[\"omega\"])\n",
    "Z = float(pd[\"Z\"])\n",
    "\n",
    "# Postprocess data\n",
    "post = postproc.PostProc(w,t,l,pen,omega,Z)\n",
    "\n",
    "# Calculate total B1 field\n",
    "theta = 0\n",
    "B1 = post.B1(dbx, dby, theta)\n",
    "\n",
    "# Calculate Larmor frequency\n",
    "gamma = 4.32e07 # Bismuth gyromagnetic ratio (rad/T*s)\n",
    "omega_larmor = post.larmor_omega(B1,gamma)\n",
    "tau = 1\n",
    "theta_larmor = post.larmor_theta(omega_larmor, tau)\n",
    "\n",
    "lardens, laredge = post.larmor_density(bx_x,by_y,theta_larmor)\n",
    "\n",
    "# Weight theta with contribution to spin signal\n",
    "g_weight = np.zeros(len(laredge))\n",
    "for i in range (0,len(laredge)-1):\n",
    "    g_weight[i] = sum(g[np.where(np.logical_and(theta_larmor>=laredge[i], theta_larmor<=laredge[i+1]))])\n",
    "\n",
    "rho_weighted = lardens * g_weight**2\n",
    "\n",
    "plt.plot(laredge,rho_weighted)\n",
    "plt.show()"
   ]
  },
  {
   "cell_type": "code",
   "execution_count": null,
   "metadata": {
    "collapsed": true
   },
   "outputs": [],
   "source": []
  }
 ],
 "metadata": {
  "kernelspec": {
   "display_name": "Python 3",
   "language": "python",
   "name": "python3"
  },
  "language_info": {
   "codemirror_mode": {
    "name": "ipython",
    "version": 3
   },
   "file_extension": ".py",
   "mimetype": "text/x-python",
   "name": "python",
   "nbconvert_exporter": "python",
   "pygments_lexer": "ipython3",
   "version": "3.6.3"
  }
 },
 "nbformat": 4,
 "nbformat_minor": 2
}
