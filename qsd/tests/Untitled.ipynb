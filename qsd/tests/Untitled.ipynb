{
 "cells": [
  {
   "cell_type": "code",
   "execution_count": 10,
   "metadata": {},
   "outputs": [
    {
     "name": "stderr",
     "output_type": "stream",
     "text": [
      "/Users/garethjones/PythonScripts/qsd/qsd/electromagnetics/cpw.py:97: RuntimeWarning: divide by zero encountered in true_divide\n",
      "  R = self.V / self.current()\n"
     ]
    }
   ],
   "source": [
    "#!/usr/bin/env python\n",
    "import numpy as np\n",
    "import matplotlib.pyplot as plt\n",
    "import csv\n",
    "import qsd\n",
    "import os\n",
    "\n",
    "# Define geometry of the superconductor\n",
    "paramfile=open(\"cpw_parameters.txt\",\"r\")\n",
    "filestring = paramfile.read()\n",
    "filelist = filestring.split(\"\\n\")\n",
    "\n",
    "pd = {}\n",
    "for fl in filelist:\n",
    "    l = fl.split()\n",
    "    pd[l[0]] = l[2]\n",
    "paramfile.close()\n",
    "\n",
    "w = float(pd[\"w\"])\n",
    "t = float(pd[\"t\"])\n",
    "l = float(pd[\"l\"])\n",
    "pen = float(pd[\"pen\"])\n",
    "omega = float(pd[\"omega\"])\n",
    "Z = float(pd[\"Z\"])\n",
    "\n",
    "setp = qsd.data_processing.setparams.SetParams(w,t,l,pen,omega,Z)\n",
    "params = setp.set_params()\n",
    "\n",
    "# Define the 'mesh'\n",
    "x = np.linspace(-w, w, int(1e04))\n",
    "\n",
    "# Instantiate Special CPW object\n",
    "cpw = qsd.electromagnetics.CPW(x,l,w,t,pen,Z,omega)\n",
    "\n",
    "Js = cpw.J() #s Current density - not normalised\n",
    "Jnorm = cpw.normalize_J() # Normalise \n",
    "I = cpw.current(norm='no') # Current\n",
    "E = cpw.E() # Electric field\n",
    "sigma = cpw.conductivity() # Conductivity\n"
   ]
  },
  {
   "cell_type": "code",
   "execution_count": 9,
   "metadata": {},
   "outputs": [
    {
     "data": {
      "text/plain": [
       "{'Z': 50.0,\n",
       " 'l': 0.008194,\n",
       " 'omega': 7300000000.0,\n",
       " 'pen': 2e-07,\n",
       " 't': 5e-08,\n",
       " 'w': 1e-05}"
      ]
     },
     "execution_count": 9,
     "metadata": {},
     "output_type": "execute_result"
    }
   ],
   "source": [
    "params"
   ]
  },
  {
   "cell_type": "code",
   "execution_count": null,
   "metadata": {
    "collapsed": true
   },
   "outputs": [],
   "source": []
  }
 ],
 "metadata": {
  "kernelspec": {
   "display_name": "Python 3",
   "language": "python",
   "name": "python3"
  },
  "language_info": {
   "codemirror_mode": {
    "name": "ipython",
    "version": 3
   },
   "file_extension": ".py",
   "mimetype": "text/x-python",
   "name": "python",
   "nbconvert_exporter": "python",
   "pygments_lexer": "ipython3",
   "version": "3.6.3"
  }
 },
 "nbformat": 4,
 "nbformat_minor": 2
}
