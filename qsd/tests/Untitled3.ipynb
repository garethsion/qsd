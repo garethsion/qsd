{
 "cells": [
  {
   "cell_type": "code",
   "execution_count": 3,
   "metadata": {},
   "outputs": [],
   "source": [
    "import csv\n",
    "import os\n",
    "import numpy as np\n",
    "from qsd.electromagnetics import cpw\n",
    "from qsd.data_processing import setparams\n",
    "\n",
    "# Define geometry of the superconductor\n",
    "setp = setparams.SetParams()\n",
    "params = setp.set_params(\"cpw_parameters.txt\")\n",
    "\n",
    "w = params[\"w\"]\n",
    "t = params[\"t\"]\n",
    "l = params[\"l\"]\n",
    "pen = params[\"pen\"]\n",
    "omega = params[\"omega\"]\n",
    "Z = params[\"Z\"]\n",
    "\n",
    "# Define the 'mesh'\n",
    "x = np.linspace(-w, w, int(1e04))\n",
    "\n",
    "# Instantiate Special CPW object\n",
    "cpw = cpw.CPW(x,l,w,t,pen,Z,omega)\n",
    "\n",
    "Js = cpw.J() #s Current density - not normalised\n",
    "Jnorm = cpw.normalize_J() # Normalise\n",
    "I = cpw.current(norm='no') # Find the current\n",
    "\n",
    "# Generate a parameter list for COMSOL modelling\n",
    "paramlist = setp.param_list(x,I,Jnorm,'paramlist.txt') # Generate COMSOL parameter list\n",
    "\n",
    "currentDensityFile = str(os.getcwd() + \"/current_density.csv\")\n",
    "np.savetxt(currentDensityFile, np.column_stack((x,Jnorm)), delimiter=\",\")\n",
    "\n",
    "currentFile = str(os.getcwd() + \"/current.csv\")\n",
    "np.savetxt(currentFile, np.column_stack((x,I)), delimiter=\",\")"
   ]
  },
  {
   "cell_type": "code",
   "execution_count": 2,
   "metadata": {},
   "outputs": [],
   "source": [
    "import os\n",
    "import numpy as np\n",
    "from qsd.data_processing import readcomsol,postproc,setparams\n",
    "\n",
    "# Read data from downloads\n",
    "file_dbx = os.getcwd() + '/downloads/exports/Bx_fullData.csv'\n",
    "file_dby = os.getcwd() + '/downloads/exports/By_fullData.csv'\n",
    "\n",
    "rdx = readcomsol.ReadComsol(file_dbx)\n",
    "rdy = readcomsol.ReadComsol(file_dby)\n",
    "\n",
    "# Read csv file, and get x,y annd dbx/dby data for each\n",
    "# blocked point in space\n",
    "bx_x,bx_y,bx_z = rdx.read_full_data()\n",
    "by_x,by_y,by_z = rdy.read_full_data()\n",
    "\n",
    "dbx = np.asarray(bx_z).astype(np.float)\n",
    "dby = np.asarray(by_z).astype(np.float)\n",
    "\n",
    "# Define geometry of the superconductor\n",
    "setp = setparams.SetParams()\n",
    "params = setp.set_params(\"cpw_parameters.txt\")\n",
    "\n",
    "w = params[\"w\"]\n",
    "t = params[\"t\"]\n",
    "l = params[\"l\"]\n",
    "pen = params[\"pen\"]\n",
    "omega = params[\"omega\"]\n",
    "Z = params[\"Z\"]\n",
    "\n",
    "# Postprocess data\n",
    "post = postproc.PostProc(w,t,l,pen,omega,Z)\n",
    "\n",
    "# Single spin coupling for each point on mesh grid\n",
    "g = post.coupling(dbx,dby,theta=0)\n",
    "hist, edges = post.spin_density(bx_x,bx_y,g) # density"
   ]
  },
  {
   "cell_type": "code",
   "execution_count": 3,
   "metadata": {},
   "outputs": [
    {
     "name": "stdout",
     "output_type": "stream",
     "text": [
      "Once deleted, variables cannot be recovered. Proceed (y/[n])? y\n"
     ]
    }
   ],
   "source": [
    "%reset"
   ]
  },
  {
   "cell_type": "code",
   "execution_count": 10,
   "metadata": {},
   "outputs": [
    {
     "ename": "IndexError",
     "evalue": "list index out of range",
     "output_type": "error",
     "traceback": [
      "\u001b[0;31m---------------------------------------------------------------------------\u001b[0m",
      "\u001b[0;31mIndexError\u001b[0m                                Traceback (most recent call last)",
      "\u001b[0;32m<ipython-input-10-2fc0bb530710>\u001b[0m in \u001b[0;36m<module>\u001b[0;34m()\u001b[0m\n\u001b[1;32m      9\u001b[0m \u001b[0;34m\u001b[0m\u001b[0m\n\u001b[1;32m     10\u001b[0m \u001b[0mxx\u001b[0m\u001b[0;34m,\u001b[0m\u001b[0mBx\u001b[0m \u001b[0;34m=\u001b[0m \u001b[0mbx\u001b[0m\u001b[0;34m.\u001b[0m\u001b[0mread_1D_comsol_data\u001b[0m\u001b[0;34m(\u001b[0m\u001b[0;34m)\u001b[0m\u001b[0;34m\u001b[0m\u001b[0m\n\u001b[0;32m---> 11\u001b[0;31m \u001b[0mxy\u001b[0m\u001b[0;34m,\u001b[0m\u001b[0mBy\u001b[0m \u001b[0;34m=\u001b[0m \u001b[0mby\u001b[0m\u001b[0;34m.\u001b[0m\u001b[0mread_1D_comsol_data\u001b[0m\u001b[0;34m(\u001b[0m\u001b[0;34m)\u001b[0m\u001b[0;34m\u001b[0m\u001b[0m\n\u001b[0m\u001b[1;32m     12\u001b[0m \u001b[0mxn\u001b[0m\u001b[0;34m,\u001b[0m\u001b[0mBn\u001b[0m \u001b[0;34m=\u001b[0m \u001b[0mbn\u001b[0m\u001b[0;34m.\u001b[0m\u001b[0mread_1D_comsol_data\u001b[0m\u001b[0;34m(\u001b[0m\u001b[0;34m)\u001b[0m\u001b[0;34m\u001b[0m\u001b[0m\n\u001b[1;32m     13\u001b[0m \u001b[0;34m\u001b[0m\u001b[0m\n",
      "\u001b[0;32m~/PythonScripts/qsd/qsd/data_processing/readcomsol.py\u001b[0m in \u001b[0;36mread_1D_comsol_data\u001b[0;34m(self)\u001b[0m\n\u001b[1;32m     19\u001b[0m             \u001b[0;32mfor\u001b[0m \u001b[0mrow\u001b[0m \u001b[0;32min\u001b[0m \u001b[0mreader\u001b[0m\u001b[0;34m:\u001b[0m\u001b[0;34m\u001b[0m\u001b[0m\n\u001b[1;32m     20\u001b[0m                 \u001b[0mx\u001b[0m\u001b[0;34m.\u001b[0m\u001b[0mappend\u001b[0m\u001b[0;34m(\u001b[0m\u001b[0mrow\u001b[0m\u001b[0;34m[\u001b[0m\u001b[0;36m0\u001b[0m\u001b[0;34m]\u001b[0m\u001b[0;34m)\u001b[0m\u001b[0;34m\u001b[0m\u001b[0m\n\u001b[0;32m---> 21\u001b[0;31m                 \u001b[0my\u001b[0m\u001b[0;34m.\u001b[0m\u001b[0mappend\u001b[0m\u001b[0;34m(\u001b[0m\u001b[0mrow\u001b[0m\u001b[0;34m[\u001b[0m\u001b[0;36m1\u001b[0m\u001b[0;34m]\u001b[0m\u001b[0;34m)\u001b[0m\u001b[0;34m\u001b[0m\u001b[0m\n\u001b[0m\u001b[1;32m     22\u001b[0m         \u001b[0mx\u001b[0m \u001b[0;34m=\u001b[0m \u001b[0mnp\u001b[0m\u001b[0;34m.\u001b[0m\u001b[0masarray\u001b[0m\u001b[0;34m(\u001b[0m\u001b[0;34m(\u001b[0m\u001b[0mx\u001b[0m\u001b[0;34m)\u001b[0m\u001b[0;34m,\u001b[0m\u001b[0mdtype\u001b[0m\u001b[0;34m=\u001b[0m\u001b[0mfloat\u001b[0m\u001b[0;34m)\u001b[0m\u001b[0;34m\u001b[0m\u001b[0m\n\u001b[1;32m     23\u001b[0m         \u001b[0my\u001b[0m \u001b[0;34m=\u001b[0m \u001b[0mnp\u001b[0m\u001b[0;34m.\u001b[0m\u001b[0masarray\u001b[0m\u001b[0;34m(\u001b[0m\u001b[0;34m(\u001b[0m\u001b[0my\u001b[0m\u001b[0;34m)\u001b[0m\u001b[0;34m,\u001b[0m\u001b[0mdtype\u001b[0m\u001b[0;34m=\u001b[0m\u001b[0mfloat\u001b[0m\u001b[0;34m)\u001b[0m\u001b[0;34m\u001b[0m\u001b[0m\n",
      "\u001b[0;31mIndexError\u001b[0m: list index out of range"
     ]
    }
   ],
   "source": [
    "from qsd.data_processing import readcomsol,postproc\n",
    "import numpy as np\n",
    "import os\n",
    "\n",
    "#read in 1d data from comsol for plotting\n",
    "bx = readcomsol.ReadComsol(os.getcwd() + '/downloads/exports/Bx.csv')\n",
    "by = readcomsol.ReadComsol(os.getcwd() + '/downloads/exports/By.csv')\n",
    "bn = readcomsol.ReadComsol(os.getcwd() + '/downloads/exports/normB.csv')\n",
    "\n",
    "xx,Bx = bx.read_1D_comsol_data()\n",
    "xy,By = by.read_1D_comsol_data()\n",
    "xn,Bn = bn.read_1D_comsol_data()\n",
    "\n",
    "# Define geometry of the superconductor\n",
    "setp = setparams.SetParams()\n",
    "params = setp.set_params(\"cpw_parameters.txt\")\n",
    "\n",
    "w = params[\"w\"]\n",
    "t = params[\"t\"]\n",
    "l = params[\"l\"]\n",
    "pen = params[\"pen\"]\n",
    "omega = params[\"omega\"]\n",
    "Z = params[\"Z\"]\n",
    "\n",
    "#calcualte single spin couplinng coefficient\n",
    "pp = postproc.PostProc(w,t,l,pen,omega,Z)\n",
    "g = pp.cut_line_single_spin_coupling(Bx,By)\n",
    "\n",
    "rho = pp.cut_line_spin_density(g)\n",
    "rho = rho / sum(rho)"
   ]
  },
  {
   "cell_type": "code",
   "execution_count": 11,
   "metadata": {},
   "outputs": [
    {
     "ename": "FileNotFoundError",
     "evalue": "[Errno 2] No such file or directory: '/Users/garethjones/PythonScripts/qsd/qsd/testsdownloads/exports/Bx.csv'",
     "output_type": "error",
     "traceback": [
      "\u001b[0;31m---------------------------------------------------------------------------\u001b[0m",
      "\u001b[0;31mFileNotFoundError\u001b[0m                         Traceback (most recent call last)",
      "\u001b[0;32m<ipython-input-11-f0969adba286>\u001b[0m in \u001b[0;36m<module>\u001b[0;34m()\u001b[0m\n\u001b[1;32m      9\u001b[0m \u001b[0mbn\u001b[0m \u001b[0;34m=\u001b[0m \u001b[0mreadcomsol\u001b[0m\u001b[0;34m.\u001b[0m\u001b[0mReadComsol\u001b[0m\u001b[0;34m(\u001b[0m\u001b[0mos\u001b[0m\u001b[0;34m.\u001b[0m\u001b[0mgetcwd\u001b[0m\u001b[0;34m(\u001b[0m\u001b[0;34m)\u001b[0m \u001b[0;34m+\u001b[0m \u001b[0;34m'downloads/exports/normB.csv'\u001b[0m\u001b[0;34m)\u001b[0m\u001b[0;34m\u001b[0m\u001b[0m\n\u001b[1;32m     10\u001b[0m \u001b[0;34m\u001b[0m\u001b[0m\n\u001b[0;32m---> 11\u001b[0;31m \u001b[0mxx\u001b[0m\u001b[0;34m,\u001b[0m\u001b[0mBx\u001b[0m \u001b[0;34m=\u001b[0m \u001b[0mbx\u001b[0m\u001b[0;34m.\u001b[0m\u001b[0mread_1D_comsol_data\u001b[0m\u001b[0;34m(\u001b[0m\u001b[0;34m)\u001b[0m\u001b[0;34m\u001b[0m\u001b[0m\n\u001b[0m\u001b[1;32m     12\u001b[0m \u001b[0mxy\u001b[0m\u001b[0;34m,\u001b[0m\u001b[0mBy\u001b[0m \u001b[0;34m=\u001b[0m \u001b[0mby\u001b[0m\u001b[0;34m.\u001b[0m\u001b[0mread_1D_comsol_data\u001b[0m\u001b[0;34m(\u001b[0m\u001b[0;34m)\u001b[0m\u001b[0;34m\u001b[0m\u001b[0m\n\u001b[1;32m     13\u001b[0m \u001b[0mxn\u001b[0m\u001b[0;34m,\u001b[0m\u001b[0mBn\u001b[0m \u001b[0;34m=\u001b[0m \u001b[0mbn\u001b[0m\u001b[0;34m.\u001b[0m\u001b[0mread_1D_comsol_data\u001b[0m\u001b[0;34m(\u001b[0m\u001b[0;34m)\u001b[0m\u001b[0;34m\u001b[0m\u001b[0m\n",
      "\u001b[0;32m~/PythonScripts/qsd/qsd/data_processing/readcomsol.py\u001b[0m in \u001b[0;36mread_1D_comsol_data\u001b[0;34m(self)\u001b[0m\n\u001b[1;32m     15\u001b[0m         \u001b[0mx\u001b[0m\u001b[0;34m=\u001b[0m\u001b[0;34m[\u001b[0m\u001b[0;34m]\u001b[0m\u001b[0;34m\u001b[0m\u001b[0m\n\u001b[1;32m     16\u001b[0m         \u001b[0my\u001b[0m\u001b[0;34m=\u001b[0m\u001b[0;34m[\u001b[0m\u001b[0;34m]\u001b[0m\u001b[0;34m\u001b[0m\u001b[0m\n\u001b[0;32m---> 17\u001b[0;31m         \u001b[0;32mwith\u001b[0m \u001b[0mopen\u001b[0m\u001b[0;34m(\u001b[0m\u001b[0mself\u001b[0m\u001b[0;34m.\u001b[0m\u001b[0mfile\u001b[0m\u001b[0;34m,\u001b[0m \u001b[0;34m'r'\u001b[0m\u001b[0;34m)\u001b[0m \u001b[0;32mas\u001b[0m \u001b[0mrf\u001b[0m\u001b[0;34m:\u001b[0m\u001b[0;34m\u001b[0m\u001b[0m\n\u001b[0m\u001b[1;32m     18\u001b[0m             \u001b[0mreader\u001b[0m \u001b[0;34m=\u001b[0m \u001b[0mcsv\u001b[0m\u001b[0;34m.\u001b[0m\u001b[0mreader\u001b[0m\u001b[0;34m(\u001b[0m\u001b[0mrf\u001b[0m\u001b[0;34m,\u001b[0m \u001b[0mdelimiter\u001b[0m\u001b[0;34m=\u001b[0m\u001b[0;34m','\u001b[0m\u001b[0;34m)\u001b[0m\u001b[0;34m\u001b[0m\u001b[0m\n\u001b[1;32m     19\u001b[0m             \u001b[0;32mfor\u001b[0m \u001b[0mrow\u001b[0m \u001b[0;32min\u001b[0m \u001b[0mreader\u001b[0m\u001b[0;34m:\u001b[0m\u001b[0;34m\u001b[0m\u001b[0m\n",
      "\u001b[0;31mFileNotFoundError\u001b[0m: [Errno 2] No such file or directory: '/Users/garethjones/PythonScripts/qsd/qsd/testsdownloads/exports/Bx.csv'"
     ]
    }
   ],
   "source": [
    "#!/usr/bin/env python\n",
    "from qsd.data_processing import readcomsol,postproc\n",
    "import numpy as np\n",
    "import os\n",
    "\n",
    "#read in 1d data from comsol for plotting\n",
    "bx = readcomsol.ReadComsol(os.getcwd() + 'downloads/exports/Bx.csv')\n",
    "by = readcomsol.ReadComsol(os.getcwd() + 'downloads/exports/By.csv')\n",
    "bn = readcomsol.ReadComsol(os.getcwd() + 'downloads/exports/normB.csv')\n",
    "\n",
    "xx,Bx = bx.read_1D_comsol_data()\n",
    "xy,By = by.read_1D_comsol_data()\n",
    "xn,Bn = bn.read_1D_comsol_data()\n",
    "\n",
    "# Define geometry of the superconductor\n",
    "setp = setparams.SetParams()\n",
    "params = setp.set_params(\"cpw_parameters.txt\")\n",
    "\n",
    "w = params[\"w\"]\n",
    "t = params[\"t\"]\n",
    "l = params[\"l\"]\n",
    "pen = params[\"pen\"]\n",
    "omega = params[\"omega\"]\n",
    "Z = params[\"Z\"]\n",
    "\n",
    "lambda_c = 6e-03 # Will work out properly, but just testing for now\n",
    "epsilon_r = 11.9\n",
    "n = np.sqrt(epsilon_r) / sp.c # Dielectric constant\n",
    "Q = 20000 # Will get this data from CST\n",
    "F = pp.purcell_factor(lambda_c,n,Q)"
   ]
  },
  {
   "cell_type": "code",
   "execution_count": null,
   "metadata": {
    "collapsed": true
   },
   "outputs": [],
   "source": []
  }
 ],
 "metadata": {
  "kernelspec": {
   "display_name": "Python 3",
   "language": "python",
   "name": "python3"
  },
  "language_info": {
   "codemirror_mode": {
    "name": "ipython",
    "version": 3
   },
   "file_extension": ".py",
   "mimetype": "text/x-python",
   "name": "python",
   "nbconvert_exporter": "python",
   "pygments_lexer": "ipython3",
   "version": "3.6.3"
  }
 },
 "nbformat": 4,
 "nbformat_minor": 2
}
