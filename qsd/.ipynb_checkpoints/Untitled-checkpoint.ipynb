{
 "cells": [
  {
   "cell_type": "code",
   "execution_count": 1,
   "metadata": {
    "collapsed": true
   },
   "outputs": [],
   "source": [
    "import os\n",
    "from qsd.ssh_control import sshcommand"
   ]
  },
  {
   "cell_type": "code",
   "execution_count": 2,
   "metadata": {
    "collapsed": true
   },
   "outputs": [],
   "source": [
    "sshc = sshcommand.SSHCommand()"
   ]
  },
  {
   "cell_type": "code",
   "execution_count": 3,
   "metadata": {},
   "outputs": [
    {
     "name": "stdout",
     "output_type": "stream",
     "text": [
      "scp data to remote machine...\n",
      "/Users/garethjones/PythonScripts/qsd/qsd/ssh_control\n",
      "/set_comsol_data\n"
     ]
    }
   ],
   "source": [
    "sshc.scp_params()"
   ]
  },
  {
   "cell_type": "code",
   "execution_count": 2,
   "metadata": {},
   "outputs": [
    {
     "name": "stdout",
     "output_type": "stream",
     "text": [
      "Help on package qsd:\n",
      "\n",
      "NAME\n",
      "    qsd\n",
      "\n",
      "PACKAGE CONTENTS\n",
      "    data_processing (package)\n",
      "    electromagnetics (package)\n",
      "    ssh_control (package)\n",
      "\n",
      "SUBMODULES\n",
      "    cpw\n",
      "    postproc\n",
      "    preproc\n",
      "    readcomsol\n",
      "    setparams\n",
      "    sshcommand\n",
      "\n",
      "FILE\n",
      "    /Users/garethjones/PythonScripts/qsd/qsd/__init__.py\n",
      "\n",
      "\n"
     ]
    }
   ],
   "source": [
    "import qsd\n",
    "help(qsd)"
   ]
  },
  {
   "cell_type": "code",
   "execution_count": 4,
   "metadata": {},
   "outputs": [
    {
     "name": "stdout",
     "output_type": "stream",
     "text": [
      "Untitled.ipynb    \u001b[1m\u001b[34m__pycache__\u001b[m\u001b[m/      \u001b[1m\u001b[34melectromagnetics\u001b[m\u001b[m/ \u001b[1m\u001b[34mtests\u001b[m\u001b[m/\r\n",
      "__init__.py       \u001b[1m\u001b[34mdata_processing\u001b[m\u001b[m/  \u001b[1m\u001b[34mssh_control\u001b[m\u001b[m/\r\n"
     ]
    }
   ],
   "source": [
    "ls"
   ]
  },
  {
   "cell_type": "code",
   "execution_count": 5,
   "metadata": {},
   "outputs": [
    {
     "data": {
      "text/plain": [
       "'/Users/garethjones/PythonScripts/qsd/qsd'"
      ]
     },
     "execution_count": 5,
     "metadata": {},
     "output_type": "execute_result"
    }
   ],
   "source": [
    "pwd"
   ]
  },
  {
   "cell_type": "code",
   "execution_count": null,
   "metadata": {
    "collapsed": true
   },
   "outputs": [],
   "source": []
  }
 ],
 "metadata": {
  "kernelspec": {
   "display_name": "Python 3",
   "language": "python",
   "name": "python3"
  },
  "language_info": {
   "codemirror_mode": {
    "name": "ipython",
    "version": 3
   },
   "file_extension": ".py",
   "mimetype": "text/x-python",
   "name": "python",
   "nbconvert_exporter": "python",
   "pygments_lexer": "ipython3",
   "version": "3.6.3"
  }
 },
 "nbformat": 4,
 "nbformat_minor": 2
}
